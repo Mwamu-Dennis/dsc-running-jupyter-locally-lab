{
  "cells": [
    {
      "cell_type": "markdown",
      "metadata": {
        "id": "view-in-github",
        "colab_type": "text"
      },
      "source": [
        "<a href=\"https://colab.research.google.com/github/Mwamu-Dennis/dsc-running-jupyter-locally-lab/blob/master/base_python.ipynb\" target=\"_parent\"><img src=\"https://colab.research.google.com/assets/colab-badge.svg\" alt=\"Open In Colab\"/></a>"
      ]
    },
    {
      "cell_type": "markdown",
      "metadata": {
        "id": "CIs3SWs_Gsx0"
      },
      "source": [
        "# Data Analysis in Base Python - Introduction"
      ]
    },
    {
      "cell_type": "markdown",
      "metadata": {
        "id": "pcsx_juvGsx4"
      },
      "source": [
        "## Introduction\n",
        "\n",
        "In this lesson, you'll continue solidifying your knowledge of Python programming, descriptive statistics, and data visualization by performing key data analysis tasks. You will learn how to load data from CSV and JSON files into Python objects in memory, and wrap up with an analysis that joins together two datasets.\n",
        "\n",
        "## Base Python\n",
        "\n",
        "When we say \"base Python\", this means that we are emphasizing the data types and modules that are part of Python itself, rather than using third-party libraries. For much of this course, you will use numerous Python libraries such as `pandas` and StatsModels, but first we want to dig into how data analysis tasks can be performed without them.\n",
        "\n",
        "### Python Data Types and Control Structures\n",
        "\n",
        "In this lesson, our data is stored in data structures that are built into the Python language: numbers, strings, lists, dictionaries, etc. For example, if we have this table of data:\n",
        "\n",
        "| color  | number |\n",
        "| ------ | ------ |\n",
        "| green  | 7      |\n",
        "| red    | 2      |\n",
        "| orange | 1      |\n",
        "\n",
        "A standard way we might represent that table would be a list of dictionaries, where each dictionary represents a row and has the keys `color` and `number`:"
      ]
    },
    {
      "cell_type": "code",
      "execution_count": null,
      "metadata": {
        "colab": {
          "base_uri": "https://localhost:8080/"
        },
        "id": "0Judw5S1Gsx5",
        "outputId": "5cf3593e-cae9-48bd-8bbb-4e6b2cb844a6"
      },
      "outputs": [
        {
          "output_type": "execute_result",
          "data": {
            "text/plain": [
              "list"
            ]
          },
          "metadata": {},
          "execution_count": 18
        }
      ],
      "source": [
        "info_table = [\n",
        "    {\"color\": \"green\", \"number\": 7},\n",
        "    {\"color\": \"red\", \"number\": 2},\n",
        "    {\"color\": \"orange\", \"number\": 1}\n",
        "]\n",
        "\n",
        "type(info_table)"
      ]
    },
    {
      "cell_type": "markdown",
      "metadata": {
        "id": "mOzgrnreGsx7"
      },
      "source": [
        "Then if we wanted to print out all of the values associated with the `color` keys, the logic would look something like this:"
      ]
    },
    {
      "cell_type": "code",
      "execution_count": null,
      "metadata": {
        "colab": {
          "base_uri": "https://localhost:8080/"
        },
        "id": "0CFtGKn8Gsx8",
        "outputId": "bc679ad6-067c-49a1-d1da-e19d19b61be7"
      },
      "outputs": [
        {
          "output_type": "stream",
          "name": "stdout",
          "text": [
            "7\n",
            "2\n",
            "1\n"
          ]
        }
      ],
      "source": [
        "for row in info_table:\n",
        "    print(row[\"number\"])"
      ]
    },
    {
      "cell_type": "code",
      "source": [
        "for row in info_table:\n",
        "    print(row[\"color\"])"
      ],
      "metadata": {
        "colab": {
          "base_uri": "https://localhost:8080/"
        },
        "id": "BMdtFQAPHTzu",
        "outputId": "7af1115d-6b46-42e9-bc09-94c83701b489"
      },
      "execution_count": null,
      "outputs": [
        {
          "output_type": "stream",
          "name": "stdout",
          "text": [
            "green\n",
            "red\n",
            "orange\n"
          ]
        }
      ]
    },
    {
      "cell_type": "markdown",
      "metadata": {
        "id": "FtkrV3DfGsx8"
      },
      "source": [
        "As more knowledge is gained, that same task (printing the list of colors) might look something like this, using the `pandas` library:"
      ]
    },
    {
      "cell_type": "code",
      "execution_count": null,
      "metadata": {
        "colab": {
          "base_uri": "https://localhost:8080/",
          "height": 204
        },
        "id": "RCPJPsMFGsx9",
        "outputId": "16457008-7cb3-468a-fe90-e4c575547c66"
      },
      "outputs": [
        {
          "output_type": "execute_result",
          "data": {
            "text/plain": [
              "pandas.core.frame.DataFrame"
            ],
            "text/html": [
              "<div style=\"max-width:800px; border: 1px solid var(--colab-border-color);\"><style>\n",
              "      pre.function-repr-contents {\n",
              "        overflow-x: auto;\n",
              "        padding: 8px 12px;\n",
              "        max-height: 500px;\n",
              "      }\n",
              "\n",
              "      pre.function-repr-contents.function-repr-contents-collapsed {\n",
              "        cursor: pointer;\n",
              "        max-height: 100px;\n",
              "      }\n",
              "    </style>\n",
              "    <pre style=\"white-space: initial; background:\n",
              "         var(--colab-secondary-surface-color); padding: 8px 12px;\n",
              "         border-bottom: 1px solid var(--colab-border-color);\"><b>pandas.core.frame.DataFrame</b><br/>def __init__(data=None, index: Axes | None=None, columns: Axes | None=None, dtype: Dtype | None=None, copy: bool | None=None) -&gt; None</pre><pre class=\"function-repr-contents function-repr-contents-collapsed\" style=\"\"><a class=\"filepath\" style=\"display:none\" href=\"#\">/usr/local/lib/python3.10/dist-packages/pandas/core/frame.py</a>Two-dimensional, size-mutable, potentially heterogeneous tabular data.\n",
              "\n",
              "Data structure also contains labeled axes (rows and columns).\n",
              "Arithmetic operations align on both row and column labels. Can be\n",
              "thought of as a dict-like container for Series objects. The primary\n",
              "pandas data structure.\n",
              "\n",
              "Parameters\n",
              "----------\n",
              "data : ndarray (structured or homogeneous), Iterable, dict, or DataFrame\n",
              "    Dict can contain Series, arrays, constants, dataclass or list-like objects. If\n",
              "    data is a dict, column order follows insertion-order. If a dict contains Series\n",
              "    which have an index defined, it is aligned by its index. This alignment also\n",
              "    occurs if data is a Series or a DataFrame itself. Alignment is done on\n",
              "    Series/DataFrame inputs.\n",
              "\n",
              "    If data is a list of dicts, column order follows insertion-order.\n",
              "\n",
              "index : Index or array-like\n",
              "    Index to use for resulting frame. Will default to RangeIndex if\n",
              "    no indexing information part of input data and no index provided.\n",
              "columns : Index or array-like\n",
              "    Column labels to use for resulting frame when data does not have them,\n",
              "    defaulting to RangeIndex(0, 1, 2, ..., n). If data contains column labels,\n",
              "    will perform column selection instead.\n",
              "dtype : dtype, default None\n",
              "    Data type to force. Only a single dtype is allowed. If None, infer.\n",
              "copy : bool or None, default None\n",
              "    Copy data from inputs.\n",
              "    For dict data, the default of None behaves like ``copy=True``.  For DataFrame\n",
              "    or 2d ndarray input, the default of None behaves like ``copy=False``.\n",
              "    If data is a dict containing one or more Series (possibly of different dtypes),\n",
              "    ``copy=False`` will ensure that these inputs are not copied.\n",
              "\n",
              "    .. versionchanged:: 1.3.0\n",
              "\n",
              "See Also\n",
              "--------\n",
              "DataFrame.from_records : Constructor from tuples, also record arrays.\n",
              "DataFrame.from_dict : From dicts of Series, arrays, or dicts.\n",
              "read_csv : Read a comma-separated values (csv) file into DataFrame.\n",
              "read_table : Read general delimited file into DataFrame.\n",
              "read_clipboard : Read text from clipboard into DataFrame.\n",
              "\n",
              "Notes\n",
              "-----\n",
              "Please reference the :ref:`User Guide &lt;basics.dataframe&gt;` for more information.\n",
              "\n",
              "Examples\n",
              "--------\n",
              "Constructing DataFrame from a dictionary.\n",
              "\n",
              "&gt;&gt;&gt; d = {&#x27;col1&#x27;: [1, 2], &#x27;col2&#x27;: [3, 4]}\n",
              "&gt;&gt;&gt; df = pd.DataFrame(data=d)\n",
              "&gt;&gt;&gt; df\n",
              "   col1  col2\n",
              "0     1     3\n",
              "1     2     4\n",
              "\n",
              "Notice that the inferred dtype is int64.\n",
              "\n",
              "&gt;&gt;&gt; df.dtypes\n",
              "col1    int64\n",
              "col2    int64\n",
              "dtype: object\n",
              "\n",
              "To enforce a single dtype:\n",
              "\n",
              "&gt;&gt;&gt; df = pd.DataFrame(data=d, dtype=np.int8)\n",
              "&gt;&gt;&gt; df.dtypes\n",
              "col1    int8\n",
              "col2    int8\n",
              "dtype: object\n",
              "\n",
              "Constructing DataFrame from a dictionary including Series:\n",
              "\n",
              "&gt;&gt;&gt; d = {&#x27;col1&#x27;: [0, 1, 2, 3], &#x27;col2&#x27;: pd.Series([2, 3], index=[2, 3])}\n",
              "&gt;&gt;&gt; pd.DataFrame(data=d, index=[0, 1, 2, 3])\n",
              "   col1  col2\n",
              "0     0   NaN\n",
              "1     1   NaN\n",
              "2     2   2.0\n",
              "3     3   3.0\n",
              "\n",
              "Constructing DataFrame from numpy ndarray:\n",
              "\n",
              "&gt;&gt;&gt; df2 = pd.DataFrame(np.array([[1, 2, 3], [4, 5, 6], [7, 8, 9]]),\n",
              "...                    columns=[&#x27;a&#x27;, &#x27;b&#x27;, &#x27;c&#x27;])\n",
              "&gt;&gt;&gt; df2\n",
              "   a  b  c\n",
              "0  1  2  3\n",
              "1  4  5  6\n",
              "2  7  8  9\n",
              "\n",
              "Constructing DataFrame from a numpy ndarray that has labeled columns:\n",
              "\n",
              "&gt;&gt;&gt; data = np.array([(1, 2, 3), (4, 5, 6), (7, 8, 9)],\n",
              "...                 dtype=[(&quot;a&quot;, &quot;i4&quot;), (&quot;b&quot;, &quot;i4&quot;), (&quot;c&quot;, &quot;i4&quot;)])\n",
              "&gt;&gt;&gt; df3 = pd.DataFrame(data, columns=[&#x27;c&#x27;, &#x27;a&#x27;])\n",
              "...\n",
              "&gt;&gt;&gt; df3\n",
              "   c  a\n",
              "0  3  1\n",
              "1  6  4\n",
              "2  9  7\n",
              "\n",
              "Constructing DataFrame from dataclass:\n",
              "\n",
              "&gt;&gt;&gt; from dataclasses import make_dataclass\n",
              "&gt;&gt;&gt; Point = make_dataclass(&quot;Point&quot;, [(&quot;x&quot;, int), (&quot;y&quot;, int)])\n",
              "&gt;&gt;&gt; pd.DataFrame([Point(0, 0), Point(0, 3), Point(2, 3)])\n",
              "   x  y\n",
              "0  0  0\n",
              "1  0  3\n",
              "2  2  3\n",
              "\n",
              "Constructing DataFrame from Series/DataFrame:\n",
              "\n",
              "&gt;&gt;&gt; ser = pd.Series([1, 2, 3], index=[&quot;a&quot;, &quot;b&quot;, &quot;c&quot;])\n",
              "&gt;&gt;&gt; df = pd.DataFrame(data=ser, index=[&quot;a&quot;, &quot;c&quot;])\n",
              "&gt;&gt;&gt; df\n",
              "   0\n",
              "a  1\n",
              "c  3\n",
              "\n",
              "&gt;&gt;&gt; df1 = pd.DataFrame([1, 2, 3], index=[&quot;a&quot;, &quot;b&quot;, &quot;c&quot;], columns=[&quot;x&quot;])\n",
              "&gt;&gt;&gt; df2 = pd.DataFrame(data=df1, index=[&quot;a&quot;, &quot;c&quot;])\n",
              "&gt;&gt;&gt; df2\n",
              "   x\n",
              "a  1\n",
              "c  3</pre>\n",
              "      <script>\n",
              "      if (google.colab.kernel.accessAllowed && google.colab.files && google.colab.files.view) {\n",
              "        for (const element of document.querySelectorAll('.filepath')) {\n",
              "          element.style.display = 'block'\n",
              "          element.onclick = (event) => {\n",
              "            event.preventDefault();\n",
              "            event.stopPropagation();\n",
              "            google.colab.files.view(element.textContent, 491);\n",
              "          };\n",
              "        }\n",
              "      }\n",
              "      for (const element of document.querySelectorAll('.function-repr-contents')) {\n",
              "        element.onclick = (event) => {\n",
              "          event.preventDefault();\n",
              "          event.stopPropagation();\n",
              "          element.classList.toggle('function-repr-contents-collapsed');\n",
              "        };\n",
              "      }\n",
              "      </script>\n",
              "      </div>"
            ]
          },
          "metadata": {},
          "execution_count": 21
        }
      ],
      "source": [
        "import pandas as pd\n",
        "df = pd.DataFrame(info_table)\n",
        "type(df)"
      ]
    },
    {
      "cell_type": "code",
      "execution_count": null,
      "metadata": {
        "colab": {
          "base_uri": "https://localhost:8080/"
        },
        "id": "l6oXziBAGsx9",
        "outputId": "5c8d19fe-4d7d-4c7a-f6f8-4df193828197"
      },
      "outputs": [
        {
          "output_type": "stream",
          "name": "stdout",
          "text": [
            "0     green\n",
            "1       red\n",
            "2    orange\n",
            "Name: color, dtype: object\n"
          ]
        }
      ],
      "source": [
        "print(df[\"color\"])"
      ]
    },
    {
      "cell_type": "markdown",
      "metadata": {
        "id": "tlAQl9rCGsx-"
      },
      "source": [
        "In the base Python example, we had a variable `info_table` which was type `list` (a built-in Python type), whereas in the pandas example, we had a variable `df` which was type `pandas.core.frame.DataFrame` (a custom type from the pandas library).\n",
        "\n",
        "Then to print out the colors, in the base Python example we had a `for` loop and then code to extract the information from each individual dictionary. The string values got printed out without any additional markup. Then in the pandas example we did not have to use a loop (hint: this is *broadcasting* like we saw previously with NumPy) and also we had some extra markup where it printed out the index values as well as `Name: color, dtype: object`.\n",
        "\n",
        "In this lesson you will practice performing data analysis with the first (base Python) format, before eventually learning how to use pandas instead."
      ]
    },
    {
      "cell_type": "markdown",
      "metadata": {
        "id": "OxAXcwm2Gsx-"
      },
      "source": [
        "### Python Modules\n",
        "\n",
        "In addition to the data types used, we will also use built-in Python modules. These modules must be imported, but they are part of Python itself and do not require separate installation.\n",
        "\n",
        "The main modules we will focus on are `csv` ([documentation here](https://docs.python.org/3/library/csv.html)) and `json` ([documentation here](https://docs.python.org/3/library/json.html))."
      ]
    },
    {
      "cell_type": "code",
      "execution_count": null,
      "metadata": {
        "id": "rRlDqWlBGsx-"
      },
      "outputs": [],
      "source": [
        "import csv\n",
        "import json"
      ]
    },
    {
      "cell_type": "markdown",
      "metadata": {
        "id": "ZjOGVFsMGsx_"
      },
      "source": [
        "## Loading Data from Files\n",
        "\n",
        "While trivial example data structures like the one above can be declared directly in Python code, more realistic data comes in the form of a file on disk.\n",
        "\n",
        "In this lesson you will practice opening data files that use the CSV and JSON formats, then loading them into sensible objects using the `csv` and `json` libraries in order to perform additional analysis.\n",
        "\n",
        "### CSV Files\n",
        "\n",
        "The first major file type we will explore is CSV (comma-separated value). For example, this code loads a dataset of 5000 apple trees in an orchard, where the column `yield` represents the total pounds of apples yielded by that tree for a given year.\n",
        "\n",
        "You can think of the table as looking like this, except that it is thousands of lines long:\n",
        "\n",
        "| yield              |\n",
        "| -----------------  |\n",
        "| 39.741234289561504 |\n",
        "| 39.872054738763474 |\n",
        "| 44.33116416558151  |\n",
        "| 46.6006230827385   |\n",
        "| 40.694984210927196 |\n",
        "| 40.96981882686812  |\n",
        "\n",
        "In relatively few lines of code, we can perform some key data analysis tasks: counting, measuring central tendency, finding the maximum, and finding the minimum."
      ]
    },
    {
      "cell_type": "code",
      "execution_count": null,
      "metadata": {
        "colab": {
          "base_uri": "https://localhost:8080/"
        },
        "id": "tX3NOTRfGsx_",
        "outputId": "56c7afa9-3ec3-4d09-a2ac-f2cd88947502"
      },
      "outputs": [
        {
          "output_type": "stream",
          "name": "stdout",
          "text": [
            "Total apple tree yields: 5000\n",
            "Average apple tree yield: 42.40762385776258\n",
            "Maximum apple tree yield: 65.54817042071103\n",
            "Minimum apple tree yield: 21.93121221285836\n"
          ]
        }
      ],
      "source": [
        "with open(\"/content/apple_orchard.csv\") as f:#data/apple_orchard.csv\n",
        "    apple_orchard_data = list(csv.DictReader(f))\n",
        "    apple_tree_yields = [float(x[\"yield\"]) for x in apple_orchard_data]\n",
        "    print(\"Total apple tree yields:\", len(apple_tree_yields))\n",
        "    print(\"Average apple tree yield:\", sum(apple_tree_yields) / len(apple_tree_yields))\n",
        "    print(\"Maximum apple tree yield:\", max(apple_tree_yields))\n",
        "    print(\"Minimum apple tree yield:\", min(apple_tree_yields))"
      ]
    },
    {
      "cell_type": "markdown",
      "metadata": {
        "id": "NixhiGpyGsx_"
      },
      "source": [
        "### JSON Files\n",
        "\n",
        "The second major file type we will explore is JSON (JavaScript object notation). For example, this code loads a dataset of interactions between Twitter users, where each user is represented as a \"node\" and when one tweets at another that connection is represented as a \"link\".\n",
        "\n",
        "You can think of this data as looking like this, although this version is truncated:\n",
        "\n",
        "```\n",
        "{\n",
        "  'nodes': [\n",
        "    {'id': '347457291'},\n",
        "    {'id': '232762581'},\n",
        "    {'id': '23678636'},\n",
        "    {'id': '21278412'},\n",
        "    {'id': '222040026'},\n",
        "    {'id': '19579205'},\n",
        "    {'id': '222957350'},\n",
        "    {'id': '264013722'},\n",
        "    ...\n",
        "  ],\n",
        "  'links': [\n",
        "    {'source': '347457291', 'target': '232762581'},\n",
        "    {'source': '347457291', 'target': '119706266'},\n",
        "    {'source': '347457291', 'target': '421509544'},\n",
        "    {'source': '232762581', 'target': '222957350'},\n",
        "    {'source': '232762581', 'target': '21648607'},\n",
        "    {'source': '232762581', 'target': '155691033'},\n",
        "    {'source': '232762581', 'target': '59974294'},\n",
        "    ...\n",
        "  ]\n",
        "  ...\n",
        "}\n",
        "```\n",
        "\n",
        "In relatively few lines of code, we can count the number of users and find the users who were \"sources\" (the user initiating a tweet that tags someone else) most often and \"targets\" (the user being tagged in a tweet) most often."
      ]
    },
    {
      "cell_type": "code",
      "execution_count": null,
      "metadata": {
        "colab": {
          "base_uri": "https://localhost:8080/"
        },
        "id": "LsV9YiSxGsyA",
        "outputId": "a8a82137-5072-49b5-8d85-8d8204f6fdc8"
      },
      "outputs": [
        {
          "output_type": "stream",
          "name": "stdout",
          "text": [
            "There are 99 users in this dataset\n",
            "\n",
            "Top 5 Sources:\n",
            "User 232762581\t| 23 Tweets\n",
            "User 49076695\t| 20 Tweets\n",
            "User 523173553\t| 19 Tweets\n",
            "User 24883888\t| 17 Tweets\n",
            "User 53318310\t| 16 Tweets\n",
            "\n",
            "Top 5 Targets:\n",
            "User 169686021\t| 13 Tweets\n",
            "User 23642374\t| 12 Tweets\n",
            "User 25797630\t| 11 Tweets\n",
            "User 25626212\t| 11 Tweets\n",
            "User 21648607\t| 10 Tweets\n"
          ]
        }
      ],
      "source": [
        "def build_freq_table(key, links):\n",
        "    table = {}\n",
        "    for link in links:\n",
        "        user = link[key]\n",
        "        table[user] = table.get(user, 0) + 1\n",
        "    return table\n",
        "\n",
        "def print_top_5(table):\n",
        "    for k, v in sorted(table.items(), key=lambda x: x[1], reverse=True)[:5]:\n",
        "        print(f\"User {k}\\t| {v} Tweets\")\n",
        "\n",
        "with open(\"/content/twitter_graph.json\") as f:#data/twitter_graph.json\n",
        "    twitter_data = json.load(f)\n",
        "    print(f\"There are {len(twitter_data['nodes'])} users in this dataset\")\n",
        "    print()\n",
        "\n",
        "    links = twitter_data[\"links\"]\n",
        "    sources = build_freq_table(\"source\", links)\n",
        "    targets = build_freq_table(\"target\", links)\n",
        "\n",
        "    print(\"Top 5 Sources:\")\n",
        "    print_top_5(sources)\n",
        "    print()\n",
        "    print(\"Top 5 Targets:\")\n",
        "    print_top_5(targets)"
      ]
    },
    {
      "cell_type": "markdown",
      "metadata": {
        "id": "Kyi3asmDGsyA"
      },
      "source": [
        "## What About NumPy and Matplotlib?\n",
        "\n",
        "You can continue using NumPy and Matplotlib as you see fit. For example, if you want to convert a base Python list into a NumPy array because it will help you perform some descriptive analysis task, that is not an issue. You will also need to use Matplotlib in the lessons ahead to create the required visualizations.\n",
        "\n"
      ]
    },
    {
      "cell_type": "markdown",
      "metadata": {
        "id": "iLh73J1zGsyA"
      },
      "source": [
        "## Summary\n",
        "\n",
        "In this lesson you will learn how to load and manipulate CSV and JSON datasets using base Python. This means that we will mainly be using the data structures and modules built into Python, rather than third-party libraries. We also walked through some examples of the kinds of analysis you will be able to perform by the end of this lesson."
      ]
    }
  ],
  "metadata": {
    "kernelspec": {
      "display_name": "Python (learn-env)",
      "language": "python",
      "name": "learn-env"
    },
    "language_info": {
      "codemirror_mode": {
        "name": "ipython",
        "version": 3
      },
      "file_extension": ".py",
      "mimetype": "text/x-python",
      "name": "python",
      "nbconvert_exporter": "python",
      "pygments_lexer": "ipython3",
      "version": "3.8.5"
    },
    "colab": {
      "provenance": [],
      "include_colab_link": true
    }
  },
  "nbformat": 4,
  "nbformat_minor": 0
}